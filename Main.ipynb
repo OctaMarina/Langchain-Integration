{
 "cells": [
  {
   "metadata": {},
   "cell_type": "markdown",
   "source": "# Install Dependencies",
   "id": "45395b35da303ed8"
  },
  {
   "metadata": {
    "ExecuteTime": {
     "end_time": "2025-07-03T16:43:27.093132Z",
     "start_time": "2025-07-03T16:43:19.776158Z"
    }
   },
   "cell_type": "code",
   "source": "!pip install langchain openai",
   "id": "initial_id",
   "outputs": [
    {
     "name": "stdout",
     "output_type": "stream",
     "text": [
      "Collecting langchain\r\n",
      "  Downloading langchain-0.3.26-py3-none-any.whl.metadata (7.8 kB)\r\n",
      "Collecting openai\r\n",
      "  Downloading openai-1.93.0-py3-none-any.whl.metadata (29 kB)\r\n",
      "Collecting langchain-core<1.0.0,>=0.3.66 (from langchain)\r\n",
      "  Downloading langchain_core-0.3.67-py3-none-any.whl.metadata (5.8 kB)\r\n",
      "Collecting langchain-text-splitters<1.0.0,>=0.3.8 (from langchain)\r\n",
      "  Downloading langchain_text_splitters-0.3.8-py3-none-any.whl.metadata (1.9 kB)\r\n",
      "Collecting langsmith>=0.1.17 (from langchain)\r\n",
      "  Downloading langsmith-0.4.4-py3-none-any.whl.metadata (15 kB)\r\n",
      "Collecting pydantic<3.0.0,>=2.7.4 (from langchain)\r\n",
      "  Downloading pydantic-2.11.7-py3-none-any.whl.metadata (67 kB)\r\n",
      "Collecting SQLAlchemy<3,>=1.4 (from langchain)\r\n",
      "  Downloading sqlalchemy-2.0.41-cp312-cp312-macosx_11_0_arm64.whl.metadata (9.6 kB)\r\n",
      "Requirement already satisfied: requests<3,>=2 in /Users/octamarina/miniconda3/envs/Langchain/lib/python3.12/site-packages (from langchain) (2.32.4)\r\n",
      "Requirement already satisfied: PyYAML>=5.3 in /Users/octamarina/miniconda3/envs/Langchain/lib/python3.12/site-packages (from langchain) (6.0.2)\r\n",
      "Collecting tenacity!=8.4.0,<10.0.0,>=8.1.0 (from langchain-core<1.0.0,>=0.3.66->langchain)\r\n",
      "  Downloading tenacity-9.1.2-py3-none-any.whl.metadata (1.2 kB)\r\n",
      "Collecting jsonpatch<2.0,>=1.33 (from langchain-core<1.0.0,>=0.3.66->langchain)\r\n",
      "  Downloading jsonpatch-1.33-py2.py3-none-any.whl.metadata (3.0 kB)\r\n",
      "Requirement already satisfied: packaging<25,>=23.2 in /Users/octamarina/miniconda3/envs/Langchain/lib/python3.12/site-packages (from langchain-core<1.0.0,>=0.3.66->langchain) (24.2)\r\n",
      "Requirement already satisfied: typing-extensions>=4.7 in /Users/octamarina/miniconda3/envs/Langchain/lib/python3.12/site-packages (from langchain-core<1.0.0,>=0.3.66->langchain) (4.12.2)\r\n",
      "Collecting jsonpointer>=1.9 (from jsonpatch<2.0,>=1.33->langchain-core<1.0.0,>=0.3.66->langchain)\r\n",
      "  Downloading jsonpointer-3.0.0-py2.py3-none-any.whl.metadata (2.3 kB)\r\n",
      "Collecting annotated-types>=0.6.0 (from pydantic<3.0.0,>=2.7.4->langchain)\r\n",
      "  Downloading annotated_types-0.7.0-py3-none-any.whl.metadata (15 kB)\r\n",
      "Collecting pydantic-core==2.33.2 (from pydantic<3.0.0,>=2.7.4->langchain)\r\n",
      "  Downloading pydantic_core-2.33.2-cp312-cp312-macosx_11_0_arm64.whl.metadata (6.8 kB)\r\n",
      "Collecting typing-inspection>=0.4.0 (from pydantic<3.0.0,>=2.7.4->langchain)\r\n",
      "  Downloading typing_inspection-0.4.1-py3-none-any.whl.metadata (2.6 kB)\r\n",
      "Requirement already satisfied: charset_normalizer<4,>=2 in /Users/octamarina/miniconda3/envs/Langchain/lib/python3.12/site-packages (from requests<3,>=2->langchain) (3.3.2)\r\n",
      "Requirement already satisfied: idna<4,>=2.5 in /Users/octamarina/miniconda3/envs/Langchain/lib/python3.12/site-packages (from requests<3,>=2->langchain) (3.7)\r\n",
      "Requirement already satisfied: urllib3<3,>=1.21.1 in /Users/octamarina/miniconda3/envs/Langchain/lib/python3.12/site-packages (from requests<3,>=2->langchain) (2.5.0)\r\n",
      "Requirement already satisfied: certifi>=2017.4.17 in /Users/octamarina/miniconda3/envs/Langchain/lib/python3.12/site-packages (from requests<3,>=2->langchain) (2025.6.15)\r\n",
      "Requirement already satisfied: anyio<5,>=3.5.0 in /Users/octamarina/miniconda3/envs/Langchain/lib/python3.12/site-packages (from openai) (4.7.0)\r\n",
      "Collecting distro<2,>=1.7.0 (from openai)\r\n",
      "  Downloading distro-1.9.0-py3-none-any.whl.metadata (6.8 kB)\r\n",
      "Requirement already satisfied: httpx<1,>=0.23.0 in /Users/octamarina/miniconda3/envs/Langchain/lib/python3.12/site-packages (from openai) (0.28.1)\r\n",
      "Collecting jiter<1,>=0.4.0 (from openai)\r\n",
      "  Downloading jiter-0.10.0-cp312-cp312-macosx_11_0_arm64.whl.metadata (5.2 kB)\r\n",
      "Requirement already satisfied: sniffio in /Users/octamarina/miniconda3/envs/Langchain/lib/python3.12/site-packages (from openai) (1.3.0)\r\n",
      "Collecting tqdm>4 (from openai)\r\n",
      "  Using cached tqdm-4.67.1-py3-none-any.whl.metadata (57 kB)\r\n",
      "Requirement already satisfied: httpcore==1.* in /Users/octamarina/miniconda3/envs/Langchain/lib/python3.12/site-packages (from httpx<1,>=0.23.0->openai) (1.0.9)\r\n",
      "Requirement already satisfied: h11>=0.16 in /Users/octamarina/miniconda3/envs/Langchain/lib/python3.12/site-packages (from httpcore==1.*->httpx<1,>=0.23.0->openai) (0.16.0)\r\n",
      "Collecting orjson<4.0.0,>=3.9.14 (from langsmith>=0.1.17->langchain)\r\n",
      "  Downloading orjson-3.10.18-cp312-cp312-macosx_15_0_arm64.whl.metadata (41 kB)\r\n",
      "Collecting requests-toolbelt<2.0.0,>=1.0.0 (from langsmith>=0.1.17->langchain)\r\n",
      "  Downloading requests_toolbelt-1.0.0-py2.py3-none-any.whl.metadata (14 kB)\r\n",
      "Collecting zstandard<0.24.0,>=0.23.0 (from langsmith>=0.1.17->langchain)\r\n",
      "  Downloading zstandard-0.23.0-cp312-cp312-macosx_11_0_arm64.whl.metadata (3.0 kB)\r\n",
      "Downloading langchain-0.3.26-py3-none-any.whl (1.0 MB)\r\n",
      "\u001B[2K   \u001B[90m━━━━━━━━━━━━━━━━━━━━━━━━━━━━━━━━━━━━━━━━\u001B[0m \u001B[32m1.0/1.0 MB\u001B[0m \u001B[31m8.9 MB/s\u001B[0m eta \u001B[36m0:00:00\u001B[0m\r\n",
      "\u001B[?25hDownloading langchain_core-0.3.67-py3-none-any.whl (440 kB)\r\n",
      "Downloading jsonpatch-1.33-py2.py3-none-any.whl (12 kB)\r\n",
      "Downloading langchain_text_splitters-0.3.8-py3-none-any.whl (32 kB)\r\n",
      "Downloading pydantic-2.11.7-py3-none-any.whl (444 kB)\r\n",
      "Downloading pydantic_core-2.33.2-cp312-cp312-macosx_11_0_arm64.whl (1.8 MB)\r\n",
      "\u001B[2K   \u001B[90m━━━━━━━━━━━━━━━━━━━━━━━━━━━━━━━━━━━━━━━━\u001B[0m \u001B[32m1.8/1.8 MB\u001B[0m \u001B[31m11.4 MB/s\u001B[0m eta \u001B[36m0:00:00\u001B[0m\r\n",
      "\u001B[?25hDownloading sqlalchemy-2.0.41-cp312-cp312-macosx_11_0_arm64.whl (2.1 MB)\r\n",
      "\u001B[2K   \u001B[90m━━━━━━━━━━━━━━━━━━━━━━━━━━━━━━━━━━━━━━━━\u001B[0m \u001B[32m2.1/2.1 MB\u001B[0m \u001B[31m11.2 MB/s\u001B[0m eta \u001B[36m0:00:00\u001B[0m\r\n",
      "\u001B[?25hDownloading tenacity-9.1.2-py3-none-any.whl (28 kB)\r\n",
      "Downloading openai-1.93.0-py3-none-any.whl (755 kB)\r\n",
      "\u001B[2K   \u001B[90m━━━━━━━━━━━━━━━━━━━━━━━━━━━━━━━━━━━━━━━━\u001B[0m \u001B[32m755.0/755.0 kB\u001B[0m \u001B[31m10.9 MB/s\u001B[0m eta \u001B[36m0:00:00\u001B[0m\r\n",
      "\u001B[?25hDownloading distro-1.9.0-py3-none-any.whl (20 kB)\r\n",
      "Downloading jiter-0.10.0-cp312-cp312-macosx_11_0_arm64.whl (320 kB)\r\n",
      "Downloading annotated_types-0.7.0-py3-none-any.whl (13 kB)\r\n",
      "Downloading jsonpointer-3.0.0-py2.py3-none-any.whl (7.6 kB)\r\n",
      "Downloading langsmith-0.4.4-py3-none-any.whl (367 kB)\r\n",
      "Downloading orjson-3.10.18-cp312-cp312-macosx_15_0_arm64.whl (133 kB)\r\n",
      "Downloading requests_toolbelt-1.0.0-py2.py3-none-any.whl (54 kB)\r\n",
      "Downloading zstandard-0.23.0-cp312-cp312-macosx_11_0_arm64.whl (633 kB)\r\n",
      "\u001B[2K   \u001B[90m━━━━━━━━━━━━━━━━━━━━━━━━━━━━━━━━━━━━━━━━\u001B[0m \u001B[32m633.5/633.5 kB\u001B[0m \u001B[31m10.2 MB/s\u001B[0m eta \u001B[36m0:00:00\u001B[0m\r\n",
      "\u001B[?25hUsing cached tqdm-4.67.1-py3-none-any.whl (78 kB)\r\n",
      "Downloading typing_inspection-0.4.1-py3-none-any.whl (14 kB)\r\n",
      "Installing collected packages: zstandard, typing-inspection, tqdm, tenacity, SQLAlchemy, pydantic-core, orjson, jsonpointer, jiter, distro, annotated-types, requests-toolbelt, pydantic, jsonpatch, openai, langsmith, langchain-core, langchain-text-splitters, langchain\r\n",
      "\u001B[2K   \u001B[90m━━━━━━━━━━━━━━━━━━━━━━━━━━━━━━━━━━━━━━━━\u001B[0m \u001B[32m19/19\u001B[0m [langchain]19\u001B[0m [langchain]core]\r\n",
      "\u001B[1A\u001B[2KSuccessfully installed SQLAlchemy-2.0.41 annotated-types-0.7.0 distro-1.9.0 jiter-0.10.0 jsonpatch-1.33 jsonpointer-3.0.0 langchain-0.3.26 langchain-core-0.3.67 langchain-text-splitters-0.3.8 langsmith-0.4.4 openai-1.93.0 orjson-3.10.18 pydantic-2.11.7 pydantic-core-2.33.2 requests-toolbelt-1.0.0 tenacity-9.1.2 tqdm-4.67.1 typing-inspection-0.4.1 zstandard-0.23.0\r\n"
     ]
    }
   ],
   "execution_count": 1
  },
  {
   "metadata": {},
   "cell_type": "markdown",
   "source": "# Set OpenAI API Key",
   "id": "1397d16e623d173b"
  },
  {
   "metadata": {
    "ExecuteTime": {
     "end_time": "2025-07-03T17:05:03.369408Z",
     "start_time": "2025-07-03T17:05:03.366293Z"
    }
   },
   "cell_type": "code",
   "source": "import os",
   "id": "ac5d1b02366d0572",
   "outputs": [],
   "execution_count": 6
  },
  {
   "metadata": {
    "ExecuteTime": {
     "end_time": "2025-07-03T17:05:03.532983Z",
     "start_time": "2025-07-03T17:05:03.530779Z"
    }
   },
   "cell_type": "code",
   "source": "",
   "id": "2cc5dca45721c14f",
   "outputs": [],
   "execution_count": null
  },
  {
   "metadata": {
    "ExecuteTime": {
     "end_time": "2025-07-03T17:05:03.858655Z",
     "start_time": "2025-07-03T17:05:03.854246Z"
    }
   },
   "cell_type": "code",
   "source": [
    "from dotenv import load_dotenv\n",
    "load_dotenv()\n",
    "\n",
    "openai_api_key = os.getenv(\"OPENAI_API_KEY\")"
   ],
   "id": "cea5321c7c10b2eb",
   "outputs": [],
   "execution_count": 7
  },
  {
   "metadata": {
    "ExecuteTime": {
     "end_time": "2025-07-03T17:05:04.224070Z",
     "start_time": "2025-07-03T17:05:04.222540Z"
    }
   },
   "cell_type": "code",
   "source": "",
   "id": "5430a8c2c2526347",
   "outputs": [],
   "execution_count": null
  },
  {
   "metadata": {},
   "cell_type": "code",
   "outputs": [],
   "execution_count": null,
   "source": "",
   "id": "a12d1cb1a4d36e6b"
  }
 ],
 "metadata": {
  "kernelspec": {
   "display_name": "Python 3",
   "language": "python",
   "name": "python3"
  },
  "language_info": {
   "codemirror_mode": {
    "name": "ipython",
    "version": 2
   },
   "file_extension": ".py",
   "mimetype": "text/x-python",
   "name": "python",
   "nbconvert_exporter": "python",
   "pygments_lexer": "ipython2",
   "version": "2.7.6"
  }
 },
 "nbformat": 4,
 "nbformat_minor": 5
}
