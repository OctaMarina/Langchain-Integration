{
 "cells": [
  {
   "metadata": {},
   "cell_type": "markdown",
   "source": [
    "# Install Dependencies\n",
    "Install the required Python packages to run LangChain and interact with LLMs. This ensures all modules are available before building the app."
   ],
   "id": "45395b35da303ed8"
  },
  {
   "metadata": {
    "ExecuteTime": {
     "end_time": "2025-07-03T17:53:56.311420Z",
     "start_time": "2025-07-03T17:53:55.666812Z"
    }
   },
   "cell_type": "code",
   "source": [
    "from IPython.core.debugger import prompt\n",
    "!pip install -qU \"langchain[google-genai]\""
   ],
   "id": "initial_id",
   "outputs": [],
   "execution_count": 1
  },
  {
   "metadata": {},
   "cell_type": "markdown",
   "source": [
    "# Set Google API Key\n",
    "Load the Google API key from the environment to authenticate our requests. This protects the key from being hard-coded into the notebook."
   ],
   "id": "1397d16e623d173b"
  },
  {
   "metadata": {
    "ExecuteTime": {
     "end_time": "2025-07-03T18:43:41.738303Z",
     "start_time": "2025-07-03T18:43:41.734515Z"
    }
   },
   "cell_type": "code",
   "source": [
    "import os\n",
    "from dotenv import load_dotenv\n",
    "import getpass\n",
    "\n",
    "load_dotenv()\n",
    "\n",
    "google_api_key = os.environ.get(\"GOOGLE_API_KEY\")\n",
    "\n",
    "if not google_api_key:\n",
    "  os.environ[\"GOOGLE_API_KEY\"] = getpass.getpass(\"Enter API key for Google Gemini: \")"
   ],
   "id": "6bb2a08d7406449b",
   "outputs": [],
   "execution_count": 3
  },
  {
   "metadata": {},
   "cell_type": "markdown",
   "source": [
    "# Create an LLM\n",
    "Initialize the Gemini language model using LangChain’s wrapper. This model will generate text based on the prompts we define.\n"
   ],
   "id": "ef216301867d551e"
  },
  {
   "metadata": {
    "ExecuteTime": {
     "end_time": "2025-07-03T19:11:37.447382Z",
     "start_time": "2025-07-03T19:11:37.420586Z"
    }
   },
   "cell_type": "code",
   "source": [
    "from langchain.chat_models import init_chat_model\n"
   ],
   "id": "cea5321c7c10b2eb",
   "outputs": [],
   "execution_count": 7
  },
  {
   "metadata": {
    "ExecuteTime": {
     "end_time": "2025-07-03T19:11:38.021644Z",
     "start_time": "2025-07-03T19:11:37.734377Z"
    }
   },
   "cell_type": "code",
   "source": [
    "model = init_chat_model(\"gemini-2.0-flash\", model_provider=\"google_genai\")"
   ],
   "id": "5430a8c2c2526347",
   "outputs": [],
   "execution_count": 8
  },
  {
   "metadata": {
    "ExecuteTime": {
     "end_time": "2025-07-03T19:11:38.825966Z",
     "start_time": "2025-07-03T19:11:38.030037Z"
    }
   },
   "cell_type": "code",
   "source": [
    "model.invoke(\"Hello, world!\")"
   ],
   "id": "a12d1cb1a4d36e6b",
   "outputs": [
    {
     "data": {
      "text/plain": [
       "AIMessage(content='Hello there! How can I help you today?', additional_kwargs={}, response_metadata={'prompt_feedback': {'block_reason': 0, 'safety_ratings': []}, 'finish_reason': 'STOP', 'model_name': 'gemini-2.0-flash', 'safety_ratings': []}, id='run--8dda4598-a5cd-4308-9a84-3368b5629211-0', usage_metadata={'input_tokens': 4, 'output_tokens': 11, 'total_tokens': 15, 'input_token_details': {'cache_read': 0}})"
      ]
     },
     "execution_count": 9,
     "metadata": {},
     "output_type": "execute_result"
    }
   ],
   "execution_count": 9
  },
  {
   "metadata": {},
   "cell_type": "markdown",
   "source": [
    "# Promt Templates\n",
    "Define reusable prompt templates that act as structured instructions for the LLM. This makes input formatting consistent and easier to manage."
   ],
   "id": "2aa156489239a275"
  },
  {
   "metadata": {
    "ExecuteTime": {
     "end_time": "2025-07-03T18:07:19.185869Z",
     "start_time": "2025-07-03T18:07:19.141929Z"
    }
   },
   "cell_type": "code",
   "source": [
    "from langchain.prompts import PromptTemplate"
   ],
   "id": "3439a1f8e3f81c6a",
   "outputs": [],
   "execution_count": 9
  },
  {
   "metadata": {
    "ExecuteTime": {
     "end_time": "2025-07-03T19:11:29.527403Z",
     "start_time": "2025-07-03T19:11:29.308985Z"
    }
   },
   "cell_type": "code",
   "source": [
    "from langchain.prompts import PromptTemplate\n",
    "\n",
    "summary_template = PromptTemplate(\n",
    "    input_variables=[\"document_text\"],\n",
    "    template=\"\"\"\n",
    "You are a professional document summarizer.\n",
    "\n",
    "Your task is to analyze the following block of text extracted from a PDF document. First, briefly infer what kind of document this is (e.g., legal contract, academic paper, invoice, manual, report, etc.). Then generate a clear and concise summary in bullet points.\n",
    "\n",
    "Instructions:\n",
    "- Start by stating what type of document it appears to be, in one short sentence.\n",
    "- Then summarize the key points in bullet format (max 150 words total).\n",
    "- Focus on the most relevant facts or ideas.\n",
    "- Avoid copying entire sentences from the original.\n",
    "- Use neutral, objective language.\n",
    "\n",
    "Text to analyze:\n",
    "{document_text}\n",
    "\n",
    "Output:\n",
    "\"\"\"\n",
    ")"
   ],
   "id": "c95eff32d1659ab0",
   "outputs": [],
   "execution_count": 4
  },
  {
   "metadata": {},
   "cell_type": "code",
   "outputs": [],
   "execution_count": null,
   "source": [
    "qa_prompt = PromptTemplate(\n",
    "    input_variables=[\"context\", \"question\"],\n",
    "    template=\"\"\"\n",
    "You are an intelligent assistant. You are given a block of text extracted from a PDF document.\n",
    "Use only the information provided in the context below to answer the user's question as clearly and accurately as possible.\n",
    "\n",
    "If the answer is not explicitly mentioned in the context, respond with \"The answer is not available in the document.\"\n",
    "\n",
    "Context:\n",
    "{context}\n",
    "\n",
    "Question:\n",
    "{question}\n",
    "\n",
    "Answer:\n",
    "\"\"\"\n",
    ")"
   ],
   "id": "e5aa1d1f29311e50"
  },
  {
   "metadata": {},
   "cell_type": "markdown",
   "source": [
    "# Create the Langchain Chain\n",
    "Build a chain that combines the prompt and the LLM into a single callable object. This lets us run the model in a pipeline-friendly way."
   ],
   "id": "d9f34ddc5e460598"
  },
  {
   "metadata": {
    "ExecuteTime": {
     "end_time": "2025-07-03T19:11:32.983231Z",
     "start_time": "2025-07-03T19:11:32.867889Z"
    }
   },
   "cell_type": "code",
   "source": [
    "from langchain.chains import LLMChain"
   ],
   "id": "29c53b3c3973e3a7",
   "outputs": [],
   "execution_count": 5
  },
  {
   "metadata": {
    "ExecuteTime": {
     "end_time": "2025-07-03T19:11:41.883425Z",
     "start_time": "2025-07-03T19:11:41.880487Z"
    }
   },
   "cell_type": "code",
   "source": [
    "chain = summary_template | model"
   ],
   "id": "d92a2934dc4329ca",
   "outputs": [],
   "execution_count": 10
  },
  {
   "metadata": {},
   "cell_type": "markdown",
   "source": [
    "# Testing out the chain\n",
    "Pass sample text into the chain to verify that the prompt and LLM integration work correctly. This step confirms that the summarization or other logic behaves as expected."
   ],
   "id": "85f6e1b3ff0c70aa"
  },
  {
   "metadata": {
    "ExecuteTime": {
     "end_time": "2025-07-03T19:11:44.129661Z",
     "start_time": "2025-07-03T19:11:44.126787Z"
    }
   },
   "cell_type": "code",
   "source": [
    "text = \"\"\"\n",
    "Technology has become an essential part of our daily lives. From the moment we wake up to the time we go to sleep, we interact with some form of technology. Smartphones, computers, and smart devices help us communicate, work, study, and entertain ourselves more efficiently than ever before.\n",
    "\n",
    "In the past, simple tasks like sending a letter or finding a recipe could take hours or even days. Today, these things can be done instantly with a few clicks or voice commands. Education has also changed — students can attend classes online, access global libraries, and use AI tools to improve their learning.\n",
    "\n",
    "However, technology also brings challenges. People spend more time in front of screens, which can affect their health and reduce face-to-face interactions. Additionally, rapid technological change means that workers need to constantly update their skills to remain relevant.\n",
    "\n",
    "In conclusion, technology offers many benefits, but it also requires us to adapt and use it responsibly.\n",
    "\"\"\""
   ],
   "id": "7835802ac55a8ff4",
   "outputs": [],
   "execution_count": 11
  },
  {
   "metadata": {
    "ExecuteTime": {
     "end_time": "2025-07-03T19:11:45.377298Z",
     "start_time": "2025-07-03T19:11:44.376923Z"
    }
   },
   "cell_type": "code",
   "source": [
    "result = chain.invoke({'document_text':text})"
   ],
   "id": "53c73388ce1c1574",
   "outputs": [],
   "execution_count": 12
  },
  {
   "metadata": {
    "ExecuteTime": {
     "end_time": "2025-07-03T19:11:45.389877Z",
     "start_time": "2025-07-03T19:11:45.386963Z"
    }
   },
   "cell_type": "code",
   "source": [
    "result"
   ],
   "id": "f29509c8369dc82c",
   "outputs": [
    {
     "data": {
      "text/plain": [
       "AIMessage(content='This appears to be an excerpt from a general overview or introduction to a discussion about technology.\\n\\n*   Technology is integral to modern life, facilitating communication, work, study, and entertainment.\\n*   Technology enhances efficiency, enabling instant completion of tasks that previously took significant time.\\n*   Education has been transformed through online classes, access to global resources, and AI tools.\\n*   Increased screen time poses health risks and reduces in-person social interaction.\\n*   Rapid technological advancements necessitate continuous upskilling for workers.\\n*   Technology offers benefits but requires responsible and adaptive use.', additional_kwargs={}, response_metadata={'prompt_feedback': {'block_reason': 0, 'safety_ratings': []}, 'finish_reason': 'STOP', 'model_name': 'gemini-2.0-flash', 'safety_ratings': []}, id='run--78c3c4c5-60eb-4697-bc71-e5a8e79a58c9-0', usage_metadata={'input_tokens': 335, 'output_tokens': 120, 'total_tokens': 455, 'input_token_details': {'cache_read': 0}})"
      ]
     },
     "execution_count": 13,
     "metadata": {},
     "output_type": "execute_result"
    }
   ],
   "execution_count": 13
  },
  {
   "metadata": {},
   "cell_type": "code",
   "outputs": [],
   "execution_count": null,
   "source": "",
   "id": "6cadaeb2eaecfe12"
  }
 ],
 "metadata": {
  "kernelspec": {
   "display_name": "Python 3",
   "language": "python",
   "name": "python3"
  },
  "language_info": {
   "codemirror_mode": {
    "name": "ipython",
    "version": 2
   },
   "file_extension": ".py",
   "mimetype": "text/x-python",
   "name": "python",
   "nbconvert_exporter": "python",
   "pygments_lexer": "ipython2",
   "version": "2.7.6"
  }
 },
 "nbformat": 4,
 "nbformat_minor": 5
}
