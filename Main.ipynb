{
 "cells": [
  {
   "metadata": {},
   "cell_type": "markdown",
   "source": [
    "# Install Dependencies\n",
    "Install the required Python packages to run LangChain and interact with LLMs. This ensures all modules are available before building the app."
   ],
   "id": "45395b35da303ed8"
  },
  {
   "metadata": {
    "ExecuteTime": {
     "end_time": "2025-07-03T17:53:56.311420Z",
     "start_time": "2025-07-03T17:53:55.666812Z"
    }
   },
   "cell_type": "code",
   "source": [
    "from IPython.core.debugger import prompt\n",
    "!pip install -qU \"langchain[google-genai]\""
   ],
   "id": "initial_id",
   "outputs": [],
   "execution_count": 1
  },
  {
   "metadata": {},
   "cell_type": "markdown",
   "source": [
    "# Set Google API Key\n",
    "Load the Google API key from the environment to authenticate our requests. This protects the key from being hard-coded into the notebook."
   ],
   "id": "1397d16e623d173b"
  },
  {
   "metadata": {
    "ExecuteTime": {
     "end_time": "2025-07-03T17:54:15.662747Z",
     "start_time": "2025-07-03T17:54:15.221790Z"
    }
   },
   "cell_type": "code",
   "source": [
    "import getpass\n",
    "import os\n",
    "\n",
    "if not os.environ.get(\"GOOGLE_API_KEY\"):\n",
    "  os.environ[\"GOOGLE_API_KEY\"] = getpass.getpass(\"Enter API key for Google Gemini: \")"
   ],
   "id": "6bb2a08d7406449b",
   "outputs": [],
   "execution_count": 4
  },
  {
   "metadata": {},
   "cell_type": "markdown",
   "source": [
    "# Create an LLM\n",
    "Initialize the Gemini language model using LangChain’s wrapper. This model will generate text based on the prompts we define.\n"
   ],
   "id": "ef216301867d551e"
  },
  {
   "metadata": {
    "ExecuteTime": {
     "end_time": "2025-07-03T17:56:33.136604Z",
     "start_time": "2025-07-03T17:56:33.133482Z"
    }
   },
   "cell_type": "code",
   "source": "from langchain.chat_models import init_chat_model\n",
   "id": "cea5321c7c10b2eb",
   "outputs": [],
   "execution_count": 6
  },
  {
   "metadata": {
    "ExecuteTime": {
     "end_time": "2025-07-03T17:56:34.885103Z",
     "start_time": "2025-07-03T17:56:34.879024Z"
    }
   },
   "cell_type": "code",
   "source": "model = init_chat_model(\"gemini-2.0-flash\", model_provider=\"google_genai\")",
   "id": "5430a8c2c2526347",
   "outputs": [],
   "execution_count": 7
  },
  {
   "metadata": {
    "ExecuteTime": {
     "end_time": "2025-07-03T17:56:36.394881Z",
     "start_time": "2025-07-03T17:56:35.534749Z"
    }
   },
   "cell_type": "code",
   "source": "model.invoke(\"Hello, world!\")",
   "id": "a12d1cb1a4d36e6b",
   "outputs": [
    {
     "data": {
      "text/plain": [
       "AIMessage(content='Hello there! How can I help you today?', additional_kwargs={}, response_metadata={'prompt_feedback': {'block_reason': 0, 'safety_ratings': []}, 'finish_reason': 'STOP', 'model_name': 'gemini-2.0-flash', 'safety_ratings': []}, id='run--307d33f1-c9b1-4f66-b82c-06caa5d37789-0', usage_metadata={'input_tokens': 4, 'output_tokens': 11, 'total_tokens': 15, 'input_token_details': {'cache_read': 0}})"
      ]
     },
     "execution_count": 8,
     "metadata": {},
     "output_type": "execute_result"
    }
   ],
   "execution_count": 8
  },
  {
   "metadata": {},
   "cell_type": "markdown",
   "source": [
    "# Promt Templates\n",
    "Define reusable prompt templates that act as structured instructions for the LLM. This makes input formatting consistent and easier to manage."
   ],
   "id": "2aa156489239a275"
  },
  {
   "metadata": {
    "ExecuteTime": {
     "end_time": "2025-07-03T18:07:19.185869Z",
     "start_time": "2025-07-03T18:07:19.141929Z"
    }
   },
   "cell_type": "code",
   "source": "from langchain.prompts import PromptTemplate",
   "id": "3439a1f8e3f81c6a",
   "outputs": [],
   "execution_count": 9
  },
  {
   "metadata": {
    "ExecuteTime": {
     "end_time": "2025-07-03T18:18:56.962321Z",
     "start_time": "2025-07-03T18:18:56.958506Z"
    }
   },
   "cell_type": "code",
   "source": [
    "from langchain.prompts import PromptTemplate\n",
    "\n",
    "summary_template = PromptTemplate(\n",
    "    input_variables=[\"document_text\"],\n",
    "    template=\"\"\"\n",
    "You are a professional document summarizer.\n",
    "\n",
    "Your task is to read the following block of text extracted from a document (such as a PDF) and generate a clear and concise summary in bullet points.\n",
    "\n",
    "Instructions:\n",
    "- Keep the summary under 150 words.\n",
    "- Highlight only the most important ideas or facts.\n",
    "- Avoid copying exact sentences from the original text.\n",
    "- Use neutral, objective language.\n",
    "\n",
    "Text to summarize:\n",
    "{document_text}\n",
    "\n",
    "Summary:\n",
    "\"\"\"\n",
    ")"
   ],
   "id": "c95eff32d1659ab0",
   "outputs": [],
   "execution_count": 11
  },
  {
   "metadata": {},
   "cell_type": "markdown",
   "source": [
    "# Create the Langchain Chain\n",
    "Build a chain that combines the prompt and the LLM into a single callable object. This lets us run the model in a pipeline-friendly way."
   ],
   "id": "d9f34ddc5e460598"
  },
  {
   "metadata": {
    "ExecuteTime": {
     "end_time": "2025-07-03T18:19:01.644865Z",
     "start_time": "2025-07-03T18:19:01.641969Z"
    }
   },
   "cell_type": "code",
   "source": "from langchain.chains import LLMChain",
   "id": "29c53b3c3973e3a7",
   "outputs": [],
   "execution_count": 12
  },
  {
   "metadata": {
    "ExecuteTime": {
     "end_time": "2025-07-03T18:19:59.506034Z",
     "start_time": "2025-07-03T18:19:59.503285Z"
    }
   },
   "cell_type": "code",
   "source": "chain = summary_template | model",
   "id": "d92a2934dc4329ca",
   "outputs": [],
   "execution_count": 15
  },
  {
   "metadata": {},
   "cell_type": "markdown",
   "source": [
    "# Testing out the chain\n",
    "Pass sample text into the chain to verify that the prompt and LLM integration work correctly. This step confirms that the summarization or other logic behaves as expected."
   ],
   "id": "85f6e1b3ff0c70aa"
  },
  {
   "metadata": {
    "ExecuteTime": {
     "end_time": "2025-07-03T18:19:56.445189Z",
     "start_time": "2025-07-03T18:19:56.443129Z"
    }
   },
   "cell_type": "code",
   "source": [
    "text = \"\"\"\n",
    "Technology has become an essential part of our daily lives. From the moment we wake up to the time we go to sleep, we interact with some form of technology. Smartphones, computers, and smart devices help us communicate, work, study, and entertain ourselves more efficiently than ever before.\n",
    "\n",
    "In the past, simple tasks like sending a letter or finding a recipe could take hours or even days. Today, these things can be done instantly with a few clicks or voice commands. Education has also changed — students can attend classes online, access global libraries, and use AI tools to improve their learning.\n",
    "\n",
    "However, technology also brings challenges. People spend more time in front of screens, which can affect their health and reduce face-to-face interactions. Additionally, rapid technological change means that workers need to constantly update their skills to remain relevant.\n",
    "\n",
    "In conclusion, technology offers many benefits, but it also requires us to adapt and use it responsibly.\n",
    "\"\"\""
   ],
   "id": "7835802ac55a8ff4",
   "outputs": [],
   "execution_count": 14
  },
  {
   "metadata": {
    "ExecuteTime": {
     "end_time": "2025-07-03T18:20:35.545659Z",
     "start_time": "2025-07-03T18:20:34.121819Z"
    }
   },
   "cell_type": "code",
   "source": "result = chain.invoke({'document_text':text})",
   "id": "53c73388ce1c1574",
   "outputs": [],
   "execution_count": 16
  },
  {
   "metadata": {
    "ExecuteTime": {
     "end_time": "2025-07-03T18:20:40.216340Z",
     "start_time": "2025-07-03T18:20:40.213593Z"
    }
   },
   "cell_type": "code",
   "source": "result",
   "id": "f29509c8369dc82c",
   "outputs": [
    {
     "data": {
      "text/plain": [
       "AIMessage(content='Here is a summary of the provided text in bullet points:\\n\\n*   Technology is integral to modern life, enhancing communication, work, education, and entertainment.\\n*   Technology streamlines tasks, offering speed and convenience compared to traditional methods.\\n*   Education is transformed through online learning, digital resources, and AI tools.\\n*   Increased screen time and reduced social interaction are potential negative impacts.\\n*   Continuous upskilling is necessary for workers to adapt to rapid technological advancements.\\n*   Responsible technology use and adaptation are crucial to maximize its benefits.', additional_kwargs={}, response_metadata={'prompt_feedback': {'block_reason': 0, 'safety_ratings': []}, 'finish_reason': 'STOP', 'model_name': 'gemini-2.0-flash', 'safety_ratings': []}, id='run--6097caae-8cd4-45b8-992f-492da98ca46c-0', usage_metadata={'input_tokens': 285, 'output_tokens': 114, 'total_tokens': 399, 'input_token_details': {'cache_read': 0}})"
      ]
     },
     "execution_count": 18,
     "metadata": {},
     "output_type": "execute_result"
    }
   ],
   "execution_count": 18
  }
 ],
 "metadata": {
  "kernelspec": {
   "display_name": "Python 3",
   "language": "python",
   "name": "python3"
  },
  "language_info": {
   "codemirror_mode": {
    "name": "ipython",
    "version": 2
   },
   "file_extension": ".py",
   "mimetype": "text/x-python",
   "name": "python",
   "nbconvert_exporter": "python",
   "pygments_lexer": "ipython2",
   "version": "2.7.6"
  }
 },
 "nbformat": 4,
 "nbformat_minor": 5
}
