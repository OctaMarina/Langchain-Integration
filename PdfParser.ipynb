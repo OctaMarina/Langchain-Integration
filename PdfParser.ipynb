{
 "cells": [
  {
   "metadata": {},
   "cell_type": "markdown",
   "source": "# Install dependencies",
   "id": "daac00311bc6bd5f"
  },
  {
   "metadata": {
    "ExecuteTime": {
     "end_time": "2025-07-03T18:32:14.235997Z",
     "start_time": "2025-07-03T18:32:07.119357Z"
    }
   },
   "cell_type": "code",
   "source": "!pip install -U langchain-community",
   "id": "initial_id",
   "outputs": [
    {
     "name": "stdout",
     "output_type": "stream",
     "text": [
      "Collecting langchain-community\r\n",
      "  Downloading langchain_community-0.3.27-py3-none-any.whl.metadata (2.9 kB)\r\n",
      "Requirement already satisfied: langchain-core<1.0.0,>=0.3.66 in /Users/octamarina/miniconda3/envs/Langchain/lib/python3.12/site-packages (from langchain-community) (0.3.67)\r\n",
      "Requirement already satisfied: langchain<1.0.0,>=0.3.26 in /Users/octamarina/miniconda3/envs/Langchain/lib/python3.12/site-packages (from langchain-community) (0.3.26)\r\n",
      "Requirement already satisfied: SQLAlchemy<3,>=1.4 in /Users/octamarina/miniconda3/envs/Langchain/lib/python3.12/site-packages (from langchain-community) (2.0.41)\r\n",
      "Requirement already satisfied: requests<3,>=2 in /Users/octamarina/miniconda3/envs/Langchain/lib/python3.12/site-packages (from langchain-community) (2.32.4)\r\n",
      "Requirement already satisfied: PyYAML>=5.3 in /Users/octamarina/miniconda3/envs/Langchain/lib/python3.12/site-packages (from langchain-community) (6.0.2)\r\n",
      "Collecting aiohttp<4.0.0,>=3.8.3 (from langchain-community)\r\n",
      "  Downloading aiohttp-3.12.13-cp312-cp312-macosx_11_0_arm64.whl.metadata (7.6 kB)\r\n",
      "Requirement already satisfied: tenacity!=8.4.0,<10,>=8.1.0 in /Users/octamarina/miniconda3/envs/Langchain/lib/python3.12/site-packages (from langchain-community) (9.1.2)\r\n",
      "Collecting dataclasses-json<0.7,>=0.5.7 (from langchain-community)\r\n",
      "  Downloading dataclasses_json-0.6.7-py3-none-any.whl.metadata (25 kB)\r\n",
      "Collecting pydantic-settings<3.0.0,>=2.4.0 (from langchain-community)\r\n",
      "  Downloading pydantic_settings-2.10.1-py3-none-any.whl.metadata (3.4 kB)\r\n",
      "Requirement already satisfied: langsmith>=0.1.125 in /Users/octamarina/miniconda3/envs/Langchain/lib/python3.12/site-packages (from langchain-community) (0.4.4)\r\n",
      "Collecting httpx-sse<1.0.0,>=0.4.0 (from langchain-community)\r\n",
      "  Downloading httpx_sse-0.4.1-py3-none-any.whl.metadata (9.4 kB)\r\n",
      "Collecting numpy>=1.26.2 (from langchain-community)\r\n",
      "  Downloading numpy-2.3.1-cp312-cp312-macosx_14_0_arm64.whl.metadata (62 kB)\r\n",
      "Collecting aiohappyeyeballs>=2.5.0 (from aiohttp<4.0.0,>=3.8.3->langchain-community)\r\n",
      "  Downloading aiohappyeyeballs-2.6.1-py3-none-any.whl.metadata (5.9 kB)\r\n",
      "Collecting aiosignal>=1.1.2 (from aiohttp<4.0.0,>=3.8.3->langchain-community)\r\n",
      "  Downloading aiosignal-1.3.2-py2.py3-none-any.whl.metadata (3.8 kB)\r\n",
      "Requirement already satisfied: attrs>=17.3.0 in /Users/octamarina/miniconda3/envs/Langchain/lib/python3.12/site-packages (from aiohttp<4.0.0,>=3.8.3->langchain-community) (24.3.0)\r\n",
      "Collecting frozenlist>=1.1.1 (from aiohttp<4.0.0,>=3.8.3->langchain-community)\r\n",
      "  Downloading frozenlist-1.7.0-cp312-cp312-macosx_11_0_arm64.whl.metadata (18 kB)\r\n",
      "Collecting multidict<7.0,>=4.5 (from aiohttp<4.0.0,>=3.8.3->langchain-community)\r\n",
      "  Downloading multidict-6.6.3-cp312-cp312-macosx_11_0_arm64.whl.metadata (5.3 kB)\r\n",
      "Collecting propcache>=0.2.0 (from aiohttp<4.0.0,>=3.8.3->langchain-community)\r\n",
      "  Downloading propcache-0.3.2-cp312-cp312-macosx_11_0_arm64.whl.metadata (12 kB)\r\n",
      "Collecting yarl<2.0,>=1.17.0 (from aiohttp<4.0.0,>=3.8.3->langchain-community)\r\n",
      "  Downloading yarl-1.20.1-cp312-cp312-macosx_11_0_arm64.whl.metadata (73 kB)\r\n",
      "Collecting marshmallow<4.0.0,>=3.18.0 (from dataclasses-json<0.7,>=0.5.7->langchain-community)\r\n",
      "  Downloading marshmallow-3.26.1-py3-none-any.whl.metadata (7.3 kB)\r\n",
      "Collecting typing-inspect<1,>=0.4.0 (from dataclasses-json<0.7,>=0.5.7->langchain-community)\r\n",
      "  Downloading typing_inspect-0.9.0-py3-none-any.whl.metadata (1.5 kB)\r\n",
      "Requirement already satisfied: langchain-text-splitters<1.0.0,>=0.3.8 in /Users/octamarina/miniconda3/envs/Langchain/lib/python3.12/site-packages (from langchain<1.0.0,>=0.3.26->langchain-community) (0.3.8)\r\n",
      "Requirement already satisfied: pydantic<3.0.0,>=2.7.4 in /Users/octamarina/miniconda3/envs/Langchain/lib/python3.12/site-packages (from langchain<1.0.0,>=0.3.26->langchain-community) (2.11.7)\r\n",
      "Requirement already satisfied: jsonpatch<2.0,>=1.33 in /Users/octamarina/miniconda3/envs/Langchain/lib/python3.12/site-packages (from langchain-core<1.0.0,>=0.3.66->langchain-community) (1.33)\r\n",
      "Requirement already satisfied: packaging<25,>=23.2 in /Users/octamarina/miniconda3/envs/Langchain/lib/python3.12/site-packages (from langchain-core<1.0.0,>=0.3.66->langchain-community) (24.2)\r\n",
      "Requirement already satisfied: typing-extensions>=4.7 in /Users/octamarina/miniconda3/envs/Langchain/lib/python3.12/site-packages (from langchain-core<1.0.0,>=0.3.66->langchain-community) (4.12.2)\r\n",
      "Requirement already satisfied: jsonpointer>=1.9 in /Users/octamarina/miniconda3/envs/Langchain/lib/python3.12/site-packages (from jsonpatch<2.0,>=1.33->langchain-core<1.0.0,>=0.3.66->langchain-community) (3.0.0)\r\n",
      "Requirement already satisfied: annotated-types>=0.6.0 in /Users/octamarina/miniconda3/envs/Langchain/lib/python3.12/site-packages (from pydantic<3.0.0,>=2.7.4->langchain<1.0.0,>=0.3.26->langchain-community) (0.7.0)\r\n",
      "Requirement already satisfied: pydantic-core==2.33.2 in /Users/octamarina/miniconda3/envs/Langchain/lib/python3.12/site-packages (from pydantic<3.0.0,>=2.7.4->langchain<1.0.0,>=0.3.26->langchain-community) (2.33.2)\r\n",
      "Requirement already satisfied: typing-inspection>=0.4.0 in /Users/octamarina/miniconda3/envs/Langchain/lib/python3.12/site-packages (from pydantic<3.0.0,>=2.7.4->langchain<1.0.0,>=0.3.26->langchain-community) (0.4.1)\r\n",
      "Requirement already satisfied: python-dotenv>=0.21.0 in /Users/octamarina/miniconda3/envs/Langchain/lib/python3.12/site-packages (from pydantic-settings<3.0.0,>=2.4.0->langchain-community) (1.1.1)\r\n",
      "Requirement already satisfied: charset_normalizer<4,>=2 in /Users/octamarina/miniconda3/envs/Langchain/lib/python3.12/site-packages (from requests<3,>=2->langchain-community) (3.3.2)\r\n",
      "Requirement already satisfied: idna<4,>=2.5 in /Users/octamarina/miniconda3/envs/Langchain/lib/python3.12/site-packages (from requests<3,>=2->langchain-community) (3.7)\r\n",
      "Requirement already satisfied: urllib3<3,>=1.21.1 in /Users/octamarina/miniconda3/envs/Langchain/lib/python3.12/site-packages (from requests<3,>=2->langchain-community) (2.5.0)\r\n",
      "Requirement already satisfied: certifi>=2017.4.17 in /Users/octamarina/miniconda3/envs/Langchain/lib/python3.12/site-packages (from requests<3,>=2->langchain-community) (2025.6.15)\r\n",
      "Collecting mypy-extensions>=0.3.0 (from typing-inspect<1,>=0.4.0->dataclasses-json<0.7,>=0.5.7->langchain-community)\r\n",
      "  Downloading mypy_extensions-1.1.0-py3-none-any.whl.metadata (1.1 kB)\r\n",
      "Requirement already satisfied: httpx<1,>=0.23.0 in /Users/octamarina/miniconda3/envs/Langchain/lib/python3.12/site-packages (from langsmith>=0.1.125->langchain-community) (0.28.1)\r\n",
      "Requirement already satisfied: orjson<4.0.0,>=3.9.14 in /Users/octamarina/miniconda3/envs/Langchain/lib/python3.12/site-packages (from langsmith>=0.1.125->langchain-community) (3.10.18)\r\n",
      "Requirement already satisfied: requests-toolbelt<2.0.0,>=1.0.0 in /Users/octamarina/miniconda3/envs/Langchain/lib/python3.12/site-packages (from langsmith>=0.1.125->langchain-community) (1.0.0)\r\n",
      "Requirement already satisfied: zstandard<0.24.0,>=0.23.0 in /Users/octamarina/miniconda3/envs/Langchain/lib/python3.12/site-packages (from langsmith>=0.1.125->langchain-community) (0.23.0)\r\n",
      "Requirement already satisfied: anyio in /Users/octamarina/miniconda3/envs/Langchain/lib/python3.12/site-packages (from httpx<1,>=0.23.0->langsmith>=0.1.125->langchain-community) (4.7.0)\r\n",
      "Requirement already satisfied: httpcore==1.* in /Users/octamarina/miniconda3/envs/Langchain/lib/python3.12/site-packages (from httpx<1,>=0.23.0->langsmith>=0.1.125->langchain-community) (1.0.9)\r\n",
      "Requirement already satisfied: h11>=0.16 in /Users/octamarina/miniconda3/envs/Langchain/lib/python3.12/site-packages (from httpcore==1.*->httpx<1,>=0.23.0->langsmith>=0.1.125->langchain-community) (0.16.0)\r\n",
      "Requirement already satisfied: sniffio>=1.1 in /Users/octamarina/miniconda3/envs/Langchain/lib/python3.12/site-packages (from anyio->httpx<1,>=0.23.0->langsmith>=0.1.125->langchain-community) (1.3.0)\r\n",
      "Downloading langchain_community-0.3.27-py3-none-any.whl (2.5 MB)\r\n",
      "\u001B[2K   \u001B[90m━━━━━━━━━━━━━━━━━━━━━━━━━━━━━━━━━━━━━━━━\u001B[0m \u001B[32m2.5/2.5 MB\u001B[0m \u001B[31m10.2 MB/s\u001B[0m eta \u001B[36m0:00:00\u001B[0ma \u001B[36m0:00:01\u001B[0m\r\n",
      "\u001B[?25hDownloading aiohttp-3.12.13-cp312-cp312-macosx_11_0_arm64.whl (467 kB)\r\n",
      "Downloading dataclasses_json-0.6.7-py3-none-any.whl (28 kB)\r\n",
      "Downloading httpx_sse-0.4.1-py3-none-any.whl (8.1 kB)\r\n",
      "Downloading marshmallow-3.26.1-py3-none-any.whl (50 kB)\r\n",
      "Downloading multidict-6.6.3-cp312-cp312-macosx_11_0_arm64.whl (43 kB)\r\n",
      "Downloading pydantic_settings-2.10.1-py3-none-any.whl (45 kB)\r\n",
      "Downloading typing_inspect-0.9.0-py3-none-any.whl (8.8 kB)\r\n",
      "Downloading yarl-1.20.1-cp312-cp312-macosx_11_0_arm64.whl (89 kB)\r\n",
      "Downloading aiohappyeyeballs-2.6.1-py3-none-any.whl (15 kB)\r\n",
      "Downloading aiosignal-1.3.2-py2.py3-none-any.whl (7.6 kB)\r\n",
      "Downloading frozenlist-1.7.0-cp312-cp312-macosx_11_0_arm64.whl (46 kB)\r\n",
      "Downloading mypy_extensions-1.1.0-py3-none-any.whl (5.0 kB)\r\n",
      "Downloading numpy-2.3.1-cp312-cp312-macosx_14_0_arm64.whl (5.1 MB)\r\n",
      "\u001B[2K   \u001B[90m━━━━━━━━━━━━━━━━━━━━━━━━━━━━━━━━━━━━━━━━\u001B[0m \u001B[32m5.1/5.1 MB\u001B[0m \u001B[31m11.5 MB/s\u001B[0m eta \u001B[36m0:00:00\u001B[0ma \u001B[36m0:00:01\u001B[0m\r\n",
      "\u001B[?25hDownloading propcache-0.3.2-cp312-cp312-macosx_11_0_arm64.whl (43 kB)\r\n",
      "Installing collected packages: propcache, numpy, mypy-extensions, multidict, marshmallow, httpx-sse, frozenlist, aiohappyeyeballs, yarl, typing-inspect, aiosignal, pydantic-settings, dataclasses-json, aiohttp, langchain-community\r\n",
      "\u001B[2K   \u001B[90m━━━━━━━━━━━━━━━━━━━━━━━━━━━━━━━━━━━━━━━━\u001B[0m \u001B[32m15/15\u001B[0m [langchain-community]ngchain-community]\r\n",
      "\u001B[1A\u001B[2KSuccessfully installed aiohappyeyeballs-2.6.1 aiohttp-3.12.13 aiosignal-1.3.2 dataclasses-json-0.6.7 frozenlist-1.7.0 httpx-sse-0.4.1 langchain-community-0.3.27 marshmallow-3.26.1 multidict-6.6.3 mypy-extensions-1.1.0 numpy-2.3.1 propcache-0.3.2 pydantic-settings-2.10.1 typing-inspect-0.9.0 yarl-1.20.1\r\n"
     ]
    }
   ],
   "execution_count": 5
  },
  {
   "metadata": {},
   "cell_type": "markdown",
   "source": "# Extract text from PDFs",
   "id": "754d75c0cf6f9d70"
  },
  {
   "metadata": {
    "ExecuteTime": {
     "end_time": "2025-07-03T18:32:14.795285Z",
     "start_time": "2025-07-03T18:32:14.247314Z"
    }
   },
   "cell_type": "code",
   "source": "from langchain.document_loaders import PyPDFLoader",
   "id": "c89f3f40d3afc087",
   "outputs": [],
   "execution_count": 6
  },
  {
   "metadata": {
    "ExecuteTime": {
     "end_time": "2025-07-03T18:32:16.993254Z",
     "start_time": "2025-07-03T18:32:16.952697Z"
    }
   },
   "cell_type": "code",
   "source": [
    "loader = PyPDFLoader(\"test_file.pdf\")\n",
    "documents = loader.load()\n",
    "\n",
    "pdf_text = \"\\n\".join([doc.page_content for doc in documents])"
   ],
   "id": "bed9f5ce9155f5b4",
   "outputs": [],
   "execution_count": 7
  },
  {
   "metadata": {
    "ExecuteTime": {
     "end_time": "2025-07-03T18:32:19.363219Z",
     "start_time": "2025-07-03T18:32:19.358839Z"
    }
   },
   "cell_type": "code",
   "source": "pdf_text",
   "id": "39aa042baa3044e6",
   "outputs": [
    {
     "data": {
      "text/plain": [
       "'The Future of Artificial Intelligence\\nArtificial Intelligence (AI) is rapidly transforming industries and everyday life. From self-driving cars\\nto smart assistants, AI systems are helping solve complex problems, improve productivity, and\\nenhance user experiences.\\nModern AI relies heavily on machine learning, where algorithms learn patterns from data instead of\\nbeing explicitly programmed. As data becomes more available and computational power increases,\\nAI models are becoming more accurate and capable.\\nHowever, AI also raises ethical questions such as privacy, bias, and the impact on employment. It is\\nimportant for developers, governments, and society to collaborate on building responsible and fair AI\\nsystems.\\nBelow is a simple conceptual illustration of AI impact in different domains.\\nAI Applications\\n- Healthcare\\n- Education\\n- Transportation'"
      ]
     },
     "execution_count": 8,
     "metadata": {},
     "output_type": "execute_result"
    }
   ],
   "execution_count": 8
  }
 ],
 "metadata": {
  "kernelspec": {
   "display_name": "Python 3",
   "language": "python",
   "name": "python3"
  },
  "language_info": {
   "codemirror_mode": {
    "name": "ipython",
    "version": 2
   },
   "file_extension": ".py",
   "mimetype": "text/x-python",
   "name": "python",
   "nbconvert_exporter": "python",
   "pygments_lexer": "ipython2",
   "version": "2.7.6"
  }
 },
 "nbformat": 4,
 "nbformat_minor": 5
}
